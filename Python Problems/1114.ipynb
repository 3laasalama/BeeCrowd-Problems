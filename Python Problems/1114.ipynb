{
 "cells": [
  {
   "cell_type": "code",
   "execution_count": 1,
   "id": "450f644f",
   "metadata": {},
   "outputs": [
    {
     "name": "stdout",
     "output_type": "stream",
     "text": [
      "5126\n",
      "Senha Invalida\n",
      "4256\n",
      "Senha Invalida\n",
      "2002\n",
      "Acesso Permitido\n"
     ]
    }
   ],
   "source": [
    "password = 2002\n",
    "count = 1\n",
    "i = 0\n",
    "\n",
    "while i < count:\n",
    "    user_pass = int(input())\n",
    "    if user_pass == password:\n",
    "        print('Acesso Permitido')\n",
    "        count -= 1\n",
    "    else:\n",
    "        print('Senha Invalida')\n"
   ]
  },
  {
   "cell_type": "code",
   "execution_count": null,
   "id": "71c2a495",
   "metadata": {},
   "outputs": [],
   "source": []
  }
 ],
 "metadata": {
  "kernelspec": {
   "display_name": "Python 3 (ipykernel)",
   "language": "python",
   "name": "python3"
  },
  "language_info": {
   "codemirror_mode": {
    "name": "ipython",
    "version": 3
   },
   "file_extension": ".py",
   "mimetype": "text/x-python",
   "name": "python",
   "nbconvert_exporter": "python",
   "pygments_lexer": "ipython3",
   "version": "3.9.7"
  }
 },
 "nbformat": 4,
 "nbformat_minor": 5
}
