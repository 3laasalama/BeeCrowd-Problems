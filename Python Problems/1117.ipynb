{
 "cells": [
  {
   "cell_type": "code",
   "execution_count": 4,
   "id": "f87ac69b",
   "metadata": {},
   "outputs": [
    {
     "name": "stdout",
     "output_type": "stream",
     "text": [
      "-3.5\n",
      "nota invalida\n",
      "3.5\n",
      "11.0\n",
      "nota invalida\n",
      "10.0\n",
      "media = 6.75\n"
     ]
    }
   ],
   "source": [
    "i = 0\n",
    "count = 2\n",
    "media = 0\n",
    "\n",
    "while i < count:\n",
    "    n = float(input())\n",
    "    \n",
    "    if n >= 0 and n <= 10 :\n",
    "        media += n\n",
    "        i += 1\n",
    "    else :\n",
    "        print('nota invalida')\n",
    "print('media = {:.2f}' .format(media/2))"
   ]
  },
  {
   "cell_type": "code",
   "execution_count": null,
   "id": "2adc51b6",
   "metadata": {},
   "outputs": [],
   "source": []
  }
 ],
 "metadata": {
  "kernelspec": {
   "display_name": "Python 3 (ipykernel)",
   "language": "python",
   "name": "python3"
  },
  "language_info": {
   "codemirror_mode": {
    "name": "ipython",
    "version": 3
   },
   "file_extension": ".py",
   "mimetype": "text/x-python",
   "name": "python",
   "nbconvert_exporter": "python",
   "pygments_lexer": "ipython3",
   "version": "3.9.7"
  }
 },
 "nbformat": 4,
 "nbformat_minor": 5
}
