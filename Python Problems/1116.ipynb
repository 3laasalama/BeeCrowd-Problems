{
 "cells": [
  {
   "cell_type": "code",
   "execution_count": 11,
   "id": "bbbd4ef7",
   "metadata": {},
   "outputs": [
    {
     "name": "stdout",
     "output_type": "stream",
     "text": [
      "3\n",
      "3 -2\n",
      "-1.5\n",
      "-8 0\n",
      "divisao impossivel\n",
      "0 8\n",
      "0.0\n"
     ]
    }
   ],
   "source": [
    "N = int(input())\n",
    "\n",
    "for i in range(N):\n",
    "    n = input().split()\n",
    "    \n",
    "    if int(n[1]) != 0 :\n",
    "        print(int(n[0])/int(n[1]))\n",
    "    else :\n",
    "        print('divisao impossivel')"
   ]
  },
  {
   "cell_type": "code",
   "execution_count": null,
   "id": "0d97f18d",
   "metadata": {},
   "outputs": [],
   "source": []
  }
 ],
 "metadata": {
  "kernelspec": {
   "display_name": "Python 3 (ipykernel)",
   "language": "python",
   "name": "python3"
  },
  "language_info": {
   "codemirror_mode": {
    "name": "ipython",
    "version": 3
   },
   "file_extension": ".py",
   "mimetype": "text/x-python",
   "name": "python",
   "nbconvert_exporter": "python",
   "pygments_lexer": "ipython3",
   "version": "3.9.7"
  }
 },
 "nbformat": 4,
 "nbformat_minor": 5
}
