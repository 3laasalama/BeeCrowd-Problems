{
 "cells": [
  {
   "cell_type": "code",
   "execution_count": 3,
   "id": "2d9aa566",
   "metadata": {},
   "outputs": [
    {
     "name": "stdout",
     "output_type": "stream",
     "text": [
      "20\n",
      "30\n",
      "50\n",
      "620\n",
      "10\n",
      "420\n",
      "320\n",
      "32\n",
      "2\n",
      "620 \n",
      " 4\n"
     ]
    }
   ],
   "source": [
    "temp = 0\n",
    "temp_i = 0\n",
    "\n",
    "for i in range(1, 101):\n",
    "    n = int(input())\n",
    "    if n > temp:\n",
    "        temp = n\n",
    "        temp_i = i\n",
    "\n",
    "print(temp)\n",
    "print(temp_i)"
   ]
  },
  {
   "cell_type": "code",
   "execution_count": null,
   "id": "634d72d8",
   "metadata": {},
   "outputs": [],
   "source": []
  }
 ],
 "metadata": {
  "kernelspec": {
   "display_name": "Python 3 (ipykernel)",
   "language": "python",
   "name": "python3"
  },
  "language_info": {
   "codemirror_mode": {
    "name": "ipython",
    "version": 3
   },
   "file_extension": ".py",
   "mimetype": "text/x-python",
   "name": "python",
   "nbconvert_exporter": "python",
   "pygments_lexer": "ipython3",
   "version": "3.9.7"
  }
 },
 "nbformat": 4,
 "nbformat_minor": 5
}
