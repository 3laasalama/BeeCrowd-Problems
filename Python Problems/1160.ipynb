{
 "cells": [
  {
   "cell_type": "code",
   "execution_count": 15,
   "id": "e4313cd8",
   "metadata": {},
   "outputs": [
    {
     "name": "stdout",
     "output_type": "stream",
     "text": [
      "6\n",
      "100 150 1 0\n",
      "51 anos.\n",
      "90000 120000 5.5 3.5\n",
      "16 anos.\n",
      "56700 72000 5.2 3\n",
      "12 anos.\n",
      "123 2000 3 2\n",
      "Mais de 1 seculo.\n",
      "100000 110000 1.5 .5\n",
      "10 anos.\n",
      "62422 484319 3.1 1\n",
      "100 anos.\n"
     ]
    }
   ],
   "source": [
    "n= int(input())\n",
    "for i in range(n):\n",
    "    sample= input().split()\n",
    "    pop1= int(sample[0])\n",
    "    pop2= int(sample[1])\n",
    "    perc1= float(sample[2])\n",
    "    perc2= float(sample[3])\n",
    "    year=0\n",
    "    while pop1 <= pop2:\n",
    "        increase1= (pop1/100)*perc1\n",
    "        increase2= (pop2/100)*perc2\n",
    "        pop1= pop1 + round(increase1,0)\n",
    "        pop2= pop2 + round(increase2,0)\n",
    "        year+=1\n",
    "    if year >100:\n",
    "        print('Mais de 1 seculo.')\n",
    "    else:\n",
    "        print(year,'anos.')"
   ]
  },
  {
   "cell_type": "code",
   "execution_count": null,
   "id": "07dbae75",
   "metadata": {},
   "outputs": [],
   "source": []
  },
  {
   "cell_type": "code",
   "execution_count": null,
   "id": "3a14e5ea",
   "metadata": {},
   "outputs": [],
   "source": []
  }
 ],
 "metadata": {
  "kernelspec": {
   "display_name": "Python 3 (ipykernel)",
   "language": "python",
   "name": "python3"
  },
  "language_info": {
   "codemirror_mode": {
    "name": "ipython",
    "version": 3
   },
   "file_extension": ".py",
   "mimetype": "text/x-python",
   "name": "python",
   "nbconvert_exporter": "python",
   "pygments_lexer": "ipython3",
   "version": "3.9.7"
  }
 },
 "nbformat": 4,
 "nbformat_minor": 5
}
