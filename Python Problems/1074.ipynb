{
 "cells": [
  {
   "cell_type": "code",
   "execution_count": 1,
   "id": "90c0d2db",
   "metadata": {},
   "outputs": [
    {
     "name": "stdout",
     "output_type": "stream",
     "text": [
      "4\n",
      "-5\n",
      "ODD NEGATIVE\n",
      "0\n",
      "NULL\n",
      "3\n",
      "ODD POSITIVE\n",
      "-4\n",
      "EVEN NEGATIVE\n"
     ]
    }
   ],
   "source": [
    "N = int(input())\n",
    "\n",
    "for i in range(N):\n",
    "    n = int(input())\n",
    "    if n > 0:\n",
    "        if n % 2 == 0:\n",
    "            print('EVEN POSITIVE')\n",
    "        else:\n",
    "            print('ODD POSITIVE')\n",
    "    elif n < 0:\n",
    "        if n % 2 == 0:\n",
    "            print('EVEN NEGATIVE')\n",
    "        else:\n",
    "            print('ODD NEGATIVE')\n",
    "    else:\n",
    "        print('NULL')\n",
    "        "
   ]
  },
  {
   "cell_type": "code",
   "execution_count": null,
   "id": "9b1d0707",
   "metadata": {},
   "outputs": [],
   "source": []
  }
 ],
 "metadata": {
  "kernelspec": {
   "display_name": "Python 3 (ipykernel)",
   "language": "python",
   "name": "python3"
  },
  "language_info": {
   "codemirror_mode": {
    "name": "ipython",
    "version": 3
   },
   "file_extension": ".py",
   "mimetype": "text/x-python",
   "name": "python",
   "nbconvert_exporter": "python",
   "pygments_lexer": "ipython3",
   "version": "3.9.7"
  }
 },
 "nbformat": 4,
 "nbformat_minor": 5
}
