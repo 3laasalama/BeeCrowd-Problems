{
 "cells": [
  {
   "cell_type": "code",
   "execution_count": 12,
   "id": "cfc878e7",
   "metadata": {},
   "outputs": [
    {
     "name": "stdout",
     "output_type": "stream",
     "text": [
      "100\n",
      "200\n",
      "13954\n"
     ]
    }
   ],
   "source": [
    "sum = 0\n",
    "x = int(input())\n",
    "y = int(input())\n",
    "big = 0\n",
    "small =0\n",
    "\n",
    "if x > y:\n",
    "    big = x\n",
    "    small = y\n",
    "else:\n",
    "    small = x\n",
    "    big = y\n",
    "\n",
    "for i in range(small, big+1 ,1):\n",
    "    if i % 13 != 0:\n",
    "        sum += i\n",
    "print(sum)"
   ]
  },
  {
   "cell_type": "code",
   "execution_count": null,
   "id": "bde31150",
   "metadata": {},
   "outputs": [],
   "source": []
  }
 ],
 "metadata": {
  "kernelspec": {
   "display_name": "Python 3 (ipykernel)",
   "language": "python",
   "name": "python3"
  },
  "language_info": {
   "codemirror_mode": {
    "name": "ipython",
    "version": 3
   },
   "file_extension": ".py",
   "mimetype": "text/x-python",
   "name": "python",
   "nbconvert_exporter": "python",
   "pygments_lexer": "ipython3",
   "version": "3.9.7"
  }
 },
 "nbformat": 4,
 "nbformat_minor": 5
}
