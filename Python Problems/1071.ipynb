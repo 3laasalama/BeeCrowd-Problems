{
 "cells": [
  {
   "cell_type": "code",
   "execution_count": 9,
   "id": "846546c0",
   "metadata": {},
   "outputs": [
    {
     "name": "stdout",
     "output_type": "stream",
     "text": [
      "12\n",
      "12\n"
     ]
    }
   ],
   "source": [
    "n1 = int(input())\n",
    "n2 = int(input())\n",
    "sum = 0\n",
    "\n",
    "if n1 > n2:\n",
    "    for i in range(1,n1-n2):\n",
    "        v = n1 - i\n",
    "        if v % 2 == 1:\n",
    "            sum += v\n",
    "elif n2 > n1 :\n",
    "    for i in range(1,n1-n2):\n",
    "        v = n1 - i\n",
    "        if v % 2 == 1:\n",
    "            sum += v\n",
    "            \n",
    "print (sum)"
   ]
  },
  {
   "cell_type": "code",
   "execution_count": null,
   "id": "4a94bfc2",
   "metadata": {},
   "outputs": [],
   "source": []
  },
  {
   "cell_type": "code",
   "execution_count": null,
   "id": "cf656752",
   "metadata": {},
   "outputs": [],
   "source": []
  }
 ],
 "metadata": {
  "kernelspec": {
   "display_name": "Python 3 (ipykernel)",
   "language": "python",
   "name": "python3"
  },
  "language_info": {
   "codemirror_mode": {
    "name": "ipython",
    "version": 3
   },
   "file_extension": ".py",
   "mimetype": "text/x-python",
   "name": "python",
   "nbconvert_exporter": "python",
   "pygments_lexer": "ipython3",
   "version": "3.9.7"
  }
 },
 "nbformat": 4,
 "nbformat_minor": 5
}
