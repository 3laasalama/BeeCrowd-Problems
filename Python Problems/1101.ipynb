{
 "cells": [
  {
   "cell_type": "code",
   "execution_count": 6,
   "id": "b71d0298",
   "metadata": {},
   "outputs": [
    {
     "name": "stdout",
     "output_type": "stream",
     "text": [
      "5 2\n",
      "2 3 4 5 sum=14\n",
      "6 3\n",
      "3 4 5 6 sum=18\n",
      "5 0\n"
     ]
    }
   ],
   "source": [
    "#range = abs(M-N)\n",
    "sum = 0\n",
    "\n",
    "for i in range(3):\n",
    "    \n",
    "    M,N = input().split()\n",
    "    if M > N:\n",
    "        big = M\n",
    "        small = N\n",
    "    else:\n",
    "        big = N\n",
    "        small = M\n",
    "    if int(M) > 0 and int(N) > 0:\n",
    "        for j in range(int(small), int(big)+1):\n",
    "            print(j , end=' ')\n",
    "            sum += j\n",
    "        print('Sum={}' .format(sum))\n",
    "        sum=0"
   ]
  },
  {
   "cell_type": "code",
   "execution_count": null,
   "id": "ec2fb3dc",
   "metadata": {},
   "outputs": [],
   "source": []
  },
  {
   "cell_type": "code",
   "execution_count": null,
   "id": "5de2f5e0",
   "metadata": {},
   "outputs": [],
   "source": []
  }
 ],
 "metadata": {
  "kernelspec": {
   "display_name": "Python 3 (ipykernel)",
   "language": "python",
   "name": "python3"
  },
  "language_info": {
   "codemirror_mode": {
    "name": "ipython",
    "version": 3
   },
   "file_extension": ".py",
   "mimetype": "text/x-python",
   "name": "python",
   "nbconvert_exporter": "python",
   "pygments_lexer": "ipython3",
   "version": "3.9.7"
  }
 },
 "nbformat": 4,
 "nbformat_minor": 5
}
