{
 "cells": [
  {
   "cell_type": "code",
   "execution_count": 13,
   "id": "aee1a9a5",
   "metadata": {},
   "outputs": [
    {
     "name": "stdout",
     "output_type": "stream",
     "text": [
      "12\n",
      "22\n",
      "12\n",
      "13\n",
      "17\n",
      "18\n"
     ]
    }
   ],
   "source": [
    "x = int(input())\n",
    "y = int(input())\n",
    "big = 0\n",
    "small =0\n",
    "\n",
    "if x > y:\n",
    "    big = x\n",
    "    small = y\n",
    "else:\n",
    "    small = x\n",
    "    big = y\n",
    "\n",
    "for i in range(small+1, big ,1):\n",
    "    if i % 5 == 2 or i % 5 == 3:\n",
    "        print(i)"
   ]
  },
  {
   "cell_type": "code",
   "execution_count": null,
   "id": "ab8e90d1",
   "metadata": {},
   "outputs": [],
   "source": []
  }
 ],
 "metadata": {
  "kernelspec": {
   "display_name": "Python 3 (ipykernel)",
   "language": "python",
   "name": "python3"
  },
  "language_info": {
   "codemirror_mode": {
    "name": "ipython",
    "version": 3
   },
   "file_extension": ".py",
   "mimetype": "text/x-python",
   "name": "python",
   "nbconvert_exporter": "python",
   "pygments_lexer": "ipython3",
   "version": "3.9.7"
  }
 },
 "nbformat": 4,
 "nbformat_minor": 5
}
