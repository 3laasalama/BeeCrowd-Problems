{
 "cells": [
  {
   "cell_type": "code",
   "execution_count": 13,
   "id": "03827b22",
   "metadata": {},
   "outputs": [
    {
     "name": "stdout",
     "output_type": "stream",
     "text": [
      "20\n",
      "1 x 20 = 20\n",
      "2 x 20 = 40\n",
      "3 x 20 = 60\n",
      "4 x 20 = 80\n",
      "5 x 20 = 100\n",
      "6 x 20 = 120\n",
      "7 x 20 = 140\n",
      "8 x 20 = 160\n",
      "9 x 20 = 180\n",
      "10 x 20 = 200\n"
     ]
    }
   ],
   "source": [
    "N = int(input())\n",
    "\n",
    "for i in range(1,11):\n",
    "    print('{} x {} = {}' .format(i, N, i*N))"
   ]
  },
  {
   "cell_type": "code",
   "execution_count": null,
   "id": "0d37bc55",
   "metadata": {},
   "outputs": [],
   "source": []
  }
 ],
 "metadata": {
  "kernelspec": {
   "display_name": "Python 3 (ipykernel)",
   "language": "python",
   "name": "python3"
  },
  "language_info": {
   "codemirror_mode": {
    "name": "ipython",
    "version": 3
   },
   "file_extension": ".py",
   "mimetype": "text/x-python",
   "name": "python",
   "nbconvert_exporter": "python",
   "pygments_lexer": "ipython3",
   "version": "3.9.7"
  }
 },
 "nbformat": 4,
 "nbformat_minor": 5
}
