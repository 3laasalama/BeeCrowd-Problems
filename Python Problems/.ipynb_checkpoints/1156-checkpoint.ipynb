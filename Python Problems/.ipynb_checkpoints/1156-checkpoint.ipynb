{
 "cells": [
  {
   "cell_type": "code",
   "execution_count": 5,
   "id": "e696b65a",
   "metadata": {},
   "outputs": [
    {
     "name": "stdout",
     "output_type": "stream",
     "text": [
      "6.00\n"
     ]
    }
   ],
   "source": [
    "n=3\n",
    "m=2\n",
    "S=1\n",
    "while n+2<40 :\n",
    "    S = S + n/m\n",
    "    n+=2\n",
    "    m=m*2\n",
    "print(format(S, '.2f'))"
   ]
  },
  {
   "cell_type": "code",
   "execution_count": null,
   "id": "066f400a",
   "metadata": {},
   "outputs": [],
   "source": []
  }
 ],
 "metadata": {
  "kernelspec": {
   "display_name": "Python 3 (ipykernel)",
   "language": "python",
   "name": "python3"
  },
  "language_info": {
   "codemirror_mode": {
    "name": "ipython",
    "version": 3
   },
   "file_extension": ".py",
   "mimetype": "text/x-python",
   "name": "python",
   "nbconvert_exporter": "python",
   "pygments_lexer": "ipython3",
   "version": "3.9.7"
  }
 },
 "nbformat": 4,
 "nbformat_minor": 5
}
