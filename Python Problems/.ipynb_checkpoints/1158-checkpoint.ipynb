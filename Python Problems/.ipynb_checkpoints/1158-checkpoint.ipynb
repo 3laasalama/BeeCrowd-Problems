{
 "cells": [
  {
   "cell_type": "code",
   "execution_count": 10,
   "id": "b272c32c",
   "metadata": {},
   "outputs": [
    {
     "name": "stdout",
     "output_type": "stream",
     "text": [
      "3\n",
      "4 5\n",
      "45\n",
      "7 8\n",
      "112\n",
      "1 6\n",
      "36\n"
     ]
    }
   ],
   "source": [
    "n= int(input())\n",
    "\n",
    "for i in range(n):\n",
    "    xy= input().split()\n",
    "    s=0\n",
    "    counter=0\n",
    "    sum=0\n",
    "    while counter < int(xy[1]):\n",
    "        temp= int(xy[0])+s\n",
    "        if temp %2 == 1:\n",
    "            sum +=temp\n",
    "            counter+=1\n",
    "        s+=1\n",
    "    print(sum)\n"
   ]
  },
  {
   "cell_type": "code",
   "execution_count": null,
   "id": "39610644",
   "metadata": {},
   "outputs": [],
   "source": []
  }
 ],
 "metadata": {
  "kernelspec": {
   "display_name": "Python 3 (ipykernel)",
   "language": "python",
   "name": "python3"
  },
  "language_info": {
   "codemirror_mode": {
    "name": "ipython",
    "version": 3
   },
   "file_extension": ".py",
   "mimetype": "text/x-python",
   "name": "python",
   "nbconvert_exporter": "python",
   "pygments_lexer": "ipython3",
   "version": "3.9.7"
  }
 },
 "nbformat": 4,
 "nbformat_minor": 5
}
