{
 "cells": [
  {
   "cell_type": "code",
   "execution_count": 29,
   "id": "8a7d6cd2",
   "metadata": {},
   "outputs": [
    {
     "name": "stdout",
     "output_type": "stream",
     "text": [
      "55\n",
      "19\n",
      "11\n",
      "19\n",
      "13\n",
      "76\n",
      "-8\n",
      "32.17\n"
     ]
    }
   ],
   "source": [
    "counter=0\n",
    "sum_1=0\n",
    "mark=True\n",
    "\n",
    "while mark ==True:\n",
    "    n= int(input())\n",
    "    if n < 0 :\n",
    "        break\n",
    "    counter+=1\n",
    "    sum_1 += n\n",
    "     \n",
    "print(format(sum_1/counter,'.2f'))"
   ]
  },
  {
   "cell_type": "code",
   "execution_count": null,
   "id": "79d5fbe8",
   "metadata": {},
   "outputs": [],
   "source": []
  }
 ],
 "metadata": {
  "kernelspec": {
   "display_name": "Python 3 (ipykernel)",
   "language": "python",
   "name": "python3"
  },
  "language_info": {
   "codemirror_mode": {
    "name": "ipython",
    "version": 3
   },
   "file_extension": ".py",
   "mimetype": "text/x-python",
   "name": "python",
   "nbconvert_exporter": "python",
   "pygments_lexer": "ipython3",
   "version": "3.9.7"
  }
 },
 "nbformat": 4,
 "nbformat_minor": 5
}
