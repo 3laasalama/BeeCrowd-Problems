{
 "cells": [
  {
   "cell_type": "code",
   "execution_count": 7,
   "id": "d7bc3356",
   "metadata": {},
   "outputs": [
    {
     "name": "stdout",
     "output_type": "stream",
     "text": [
      "3\n",
      "2\n",
      "20\n",
      "5\n"
     ]
    }
   ],
   "source": [
    "x = int(input())\n",
    "\n",
    "counter=0\n",
    "condition= 1\n",
    "while condition == 1:\n",
    "    z= int(input())\n",
    "    if z > x:\n",
    "        condition= 0\n",
    "\n",
    "temp=x        \n",
    "while condition == 0:\n",
    "    counter += 1\n",
    "    temp += x + counter\n",
    "    if temp > z:\n",
    "        condition = 1\n",
    "\n",
    "print(counter+1)"
   ]
  },
  {
   "cell_type": "code",
   "execution_count": null,
   "id": "2b80dd9f",
   "metadata": {},
   "outputs": [],
   "source": []
  }
 ],
 "metadata": {
  "kernelspec": {
   "display_name": "Python 3 (ipykernel)",
   "language": "python",
   "name": "python3"
  },
  "language_info": {
   "codemirror_mode": {
    "name": "ipython",
    "version": 3
   },
   "file_extension": ".py",
   "mimetype": "text/x-python",
   "name": "python",
   "nbconvert_exporter": "python",
   "pygments_lexer": "ipython3",
   "version": "3.9.7"
  }
 },
 "nbformat": 4,
 "nbformat_minor": 5
}
