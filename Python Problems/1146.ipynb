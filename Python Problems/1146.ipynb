{
 "cells": [
  {
   "cell_type": "code",
   "execution_count": 7,
   "id": "f0153254",
   "metadata": {},
   "outputs": [
    {
     "name": "stdout",
     "output_type": "stream",
     "text": [
      "20\n",
      "1 2 3 4 5 6 7 8 9 10 11 12 13 14 15 16 17 18 19 20\n",
      "5\n",
      "1 2 3 4 5\n",
      "6\n",
      "1 2 3 4 5 6\n",
      "3\n",
      "1 2 3\n",
      "1\n",
      "1\n",
      "0\n",
      "\n"
     ]
    }
   ],
   "source": [
    "x = 1\n",
    "\n",
    "while x != 0:\n",
    "    x = int(input())\n",
    "    for i in range(1,x+1):\n",
    "        if i==x:\n",
    "            print('{}' .format(i), end='')\n",
    "        else:\n",
    "            print('{} ' .format(i), end='')\n",
    "    print()\n"
   ]
  },
  {
   "cell_type": "code",
   "execution_count": null,
   "id": "003fee9f",
   "metadata": {},
   "outputs": [],
   "source": []
  }
 ],
 "metadata": {
  "kernelspec": {
   "display_name": "Python 3 (ipykernel)",
   "language": "python",
   "name": "python3"
  },
  "language_info": {
   "codemirror_mode": {
    "name": "ipython",
    "version": 3
   },
   "file_extension": ".py",
   "mimetype": "text/x-python",
   "name": "python",
   "nbconvert_exporter": "python",
   "pygments_lexer": "ipython3",
   "version": "3.9.7"
  }
 },
 "nbformat": 4,
 "nbformat_minor": 5
}
