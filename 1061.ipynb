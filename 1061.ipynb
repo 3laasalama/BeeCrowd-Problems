{
 "cells": [
  {
   "cell_type": "code",
   "execution_count": 4,
   "id": "9dbc33ec",
   "metadata": {},
   "outputs": [
    {
     "name": "stdout",
     "output_type": "stream",
     "text": [
      "Dia 5\n",
      "8:12:23\n",
      "Dia 9\n",
      "6:13:23\n",
      "3 dia (s)\n",
      "22 hora (s)\n",
      "1 minuto (s)\n",
      "0 segundo (s)\n"
     ]
    }
   ],
   "source": [
    "dia, date1 = input().split()\n",
    "date1 = int(date1)\n",
    "h1, m1, s1 = map(int, input().split(':'))\n",
    "\n",
    "dia, date2 = input().split()\n",
    "date2 = int(date2)\n",
    "h2, m2, s2 = map(int, input().split(':'))\n",
    "\n",
    "date = date2 - date1\n",
    "h = h2 - h1\n",
    "m = m2 - m1 \n",
    "s = s2 - s1\n",
    "\n",
    "if s < 0:\n",
    "    s+=60\n",
    "    m-=1\n",
    "    \n",
    "if m < 0:\n",
    "    m+=60\n",
    "    h-=1\n",
    "    \n",
    "if h < 0:\n",
    "    h+=24\n",
    "    date-=1\n",
    "\n",
    "print(date , 'dia(s)')\n",
    "print(h , 'hora(s)')\n",
    "print(m , 'minuto(s)')\n",
    "print(s , 'segundo(s)')"
   ]
  },
  {
   "cell_type": "code",
   "execution_count": null,
   "id": "f06709a2",
   "metadata": {},
   "outputs": [],
   "source": []
  },
  {
   "cell_type": "code",
   "execution_count": null,
   "id": "9d65ab5f",
   "metadata": {},
   "outputs": [],
   "source": []
  }
 ],
 "metadata": {
  "kernelspec": {
   "display_name": "Python 3 (ipykernel)",
   "language": "python",
   "name": "python3"
  },
  "language_info": {
   "codemirror_mode": {
    "name": "ipython",
    "version": 3
   },
   "file_extension": ".py",
   "mimetype": "text/x-python",
   "name": "python",
   "nbconvert_exporter": "python",
   "pygments_lexer": "ipython3",
   "version": "3.9.7"
  }
 },
 "nbformat": 4,
 "nbformat_minor": 5
}
