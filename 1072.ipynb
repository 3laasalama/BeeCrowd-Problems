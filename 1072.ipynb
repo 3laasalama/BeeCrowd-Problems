{
 "cells": [
  {
   "cell_type": "code",
   "execution_count": 3,
   "id": "4dfbc5bc",
   "metadata": {},
   "outputs": [
    {
     "name": "stdout",
     "output_type": "stream",
     "text": [
      "5\n",
      "21\n",
      "20\n",
      "13\n",
      "5\n",
      "1\n",
      "2 in\n",
      "3 out\n"
     ]
    }
   ],
   "source": [
    "N = int(input())\n",
    "X = []\n",
    "c_in = 0\n",
    "c_out = 0\n",
    "\n",
    "for i in range(N):\n",
    "    X.append(int(input()))\n",
    "    if X[i] >= 10 and X[i] <= 20:\n",
    "        c_in += 1\n",
    "    else:\n",
    "        c_out += 1\n",
    "print(c_in, 'in')\n",
    "print(c_out, 'out')"
   ]
  },
  {
   "cell_type": "code",
   "execution_count": null,
   "id": "33fcfda9",
   "metadata": {},
   "outputs": [],
   "source": []
  }
 ],
 "metadata": {
  "kernelspec": {
   "display_name": "Python 3 (ipykernel)",
   "language": "python",
   "name": "python3"
  },
  "language_info": {
   "codemirror_mode": {
    "name": "ipython",
    "version": 3
   },
   "file_extension": ".py",
   "mimetype": "text/x-python",
   "name": "python",
   "nbconvert_exporter": "python",
   "pygments_lexer": "ipython3",
   "version": "3.9.7"
  }
 },
 "nbformat": 4,
 "nbformat_minor": 5
}
