{
 "cells": [
  {
   "cell_type": "code",
   "execution_count": 8,
   "id": "eae715b6",
   "metadata": {},
   "outputs": [
    {
     "name": "stdout",
     "output_type": "stream",
     "text": [
      "I=1 J=7\n",
      "I=1 J=6\n",
      "I=1 J=5\n",
      "I=3 J=7\n",
      "I=3 J=6\n",
      "I=3 J=5\n",
      "I=5 J=7\n",
      "I=5 J=6\n",
      "I=5 J=5\n",
      "I=7 J=7\n",
      "I=7 J=6\n",
      "I=7 J=5\n",
      "I=9 J=7\n",
      "I=9 J=6\n",
      "I=9 J=5\n"
     ]
    }
   ],
   "source": [
    "for i in range(1, 10, 2):\n",
    "    for j in range(7,4,-1):\n",
    "        print('I={} J={}' .format(i, j))"
   ]
  },
  {
   "cell_type": "code",
   "execution_count": null,
   "id": "723a50dc",
   "metadata": {},
   "outputs": [],
   "source": []
  }
 ],
 "metadata": {
  "kernelspec": {
   "display_name": "Python 3 (ipykernel)",
   "language": "python",
   "name": "python3"
  },
  "language_info": {
   "codemirror_mode": {
    "name": "ipython",
    "version": 3
   },
   "file_extension": ".py",
   "mimetype": "text/x-python",
   "name": "python",
   "nbconvert_exporter": "python",
   "pygments_lexer": "ipython3",
   "version": "3.9.7"
  }
 },
 "nbformat": 4,
 "nbformat_minor": 5
}
