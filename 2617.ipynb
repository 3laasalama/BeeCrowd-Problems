{
 "cells": [
  {
   "cell_type": "code",
   "execution_count": null,
   "id": "bd9eadda",
   "metadata": {},
   "outputs": [],
   "source": [
    "select prod.name, prov.name \n",
    "from products prod inner join providers prov on prov.id = prod.id_providers\n",
    "where prov.name = 'Ajax SA';"
   ]
  }
 ],
 "metadata": {
  "kernelspec": {
   "display_name": "Python 3 (ipykernel)",
   "language": "python",
   "name": "python3"
  },
  "language_info": {
   "codemirror_mode": {
    "name": "ipython",
    "version": 3
   },
   "file_extension": ".py",
   "mimetype": "text/x-python",
   "name": "python",
   "nbconvert_exporter": "python",
   "pygments_lexer": "ipython3",
   "version": "3.9.7"
  }
 },
 "nbformat": 4,
 "nbformat_minor": 5
}
