{
 "cells": [
  {
   "cell_type": "code",
   "execution_count": null,
   "id": "6000ae3a",
   "metadata": {},
   "outputs": [],
   "source": []
  },
  {
   "cell_type": "code",
   "execution_count": null,
   "id": "e890126c",
   "metadata": {},
   "outputs": [],
   "source": []
  },
  {
   "cell_type": "code",
   "execution_count": 8,
   "id": "ba124123",
   "metadata": {},
   "outputs": [
    {
     "name": "stdout",
     "output_type": "stream",
     "text": [
      "3.\n",
      "10\n",
      "media = 6.50\n",
      "novo calculo (1-sim 2-nao)\n",
      "20\n",
      "novo calculo (1-sim 2-nao)\n",
      "20\n",
      "novo calculo (1-sim 2-nao)\n",
      "20\n",
      "novo calculo (1-sim 2-nao)\n",
      "10\n",
      "novo calculo (1-sim 2-nao)\n",
      "5\n",
      "novo calculo (1-sim 2-nao)\n",
      "1\n",
      "20\n",
      "nota invalida\n",
      "60\n",
      "nota invalida\n",
      "40\n",
      "nota invalida\n",
      "5\n",
      "4\n",
      "media = 4.50\n",
      "novo calculo (1-sim 2-nao)\n",
      "2\n"
     ]
    }
   ],
   "source": [
    "while True:\n",
    "    s = 0\n",
    "    q = 0\n",
    "    while (q< 2):\n",
    "        n= float(input())\n",
    "        if (n >= 0 and n <= 10):\n",
    "            s += n\n",
    "            q += 1\n",
    "        else:\n",
    "            print(\"nota invalida\")\n",
    "    print(\"media = %.2f\" % (s / 2))\n",
    "    t = 0\n",
    "    while True:\n",
    "        print(\"novo calculo (1-sim 2-nao)\")\n",
    "        t= int(input())\n",
    "        if (t == 1 or t== 2):\n",
    "            break\n",
    "    if (t == 2):\n",
    "        break"
   ]
  },
  {
   "cell_type": "code",
   "execution_count": null,
   "id": "e13bad89",
   "metadata": {},
   "outputs": [],
   "source": []
  },
  {
   "cell_type": "code",
   "execution_count": null,
   "id": "29ad421f",
   "metadata": {},
   "outputs": [],
   "source": []
  }
 ],
 "metadata": {
  "kernelspec": {
   "display_name": "Python 3 (ipykernel)",
   "language": "python",
   "name": "python3"
  },
  "language_info": {
   "codemirror_mode": {
    "name": "ipython",
    "version": 3
   },
   "file_extension": ".py",
   "mimetype": "text/x-python",
   "name": "python",
   "nbconvert_exporter": "python",
   "pygments_lexer": "ipython3",
   "version": "3.9.7"
  }
 },
 "nbformat": 4,
 "nbformat_minor": 5
}
