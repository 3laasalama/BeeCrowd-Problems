{
 "cells": [
  {
   "cell_type": "code",
   "execution_count": 7,
   "id": "06fe1886",
   "metadata": {},
   "outputs": [
    {
     "name": "stdout",
     "output_type": "stream",
     "text": [
      "3 2\n",
      "Novo grenal (1-sim 2-nao)\n",
      "1\n",
      "2 3\n",
      "Novo grenal (1-sim 2-nao)\n",
      "1\n",
      "3 1\n",
      "Novo grenal (1-sim 2-nao)\n",
      "2\n",
      "3 grenais\n",
      "Inter:2\n",
      "Gremio:1\n",
      "Empates:0\n",
      "Inter venceu mais\n"
     ]
    }
   ],
   "source": [
    "\n",
    "i=0\n",
    "count=1\n",
    "temp=1\n",
    "inter =0\n",
    "gremio =0\n",
    "draw =0\n",
    "no_match =0\n",
    "\n",
    "while i < count:\n",
    "    if temp == 1:\n",
    "        n = input().split()\n",
    "        no_match += 1\n",
    "        if int(n[0]) > int(n[1]):\n",
    "            inter += 1\n",
    "        elif int(n[0]) < int(n[1]):\n",
    "            gremio += 1\n",
    "        else:\n",
    "            draw += 1\n",
    "        print('Novo grenal (1-sim 2-nao)')\n",
    "        temp = int(input())\n",
    "        \n",
    "    elif temp == 2:\n",
    "        i += 1\n",
    "        print(no_match, 'grenais')\n",
    "        print('Inter:{}' .format(inter))\n",
    "        print('Gremio:{}' .format(gremio))\n",
    "        print('Empates:{}' .format(draw))\n",
    "        if inter > gremio:    \n",
    "            print('{} venceu mais' .format('Inter'))\n",
    "        elif inter < gremio:    \n",
    "            print('{} venceu mais' .format('Gremio'))\n",
    "        else:    \n",
    "            print('Não houve vencedor')\n",
    "        "
   ]
  },
  {
   "cell_type": "code",
   "execution_count": null,
   "id": "5e94420f",
   "metadata": {},
   "outputs": [],
   "source": []
  }
 ],
 "metadata": {
  "kernelspec": {
   "display_name": "Python 3 (ipykernel)",
   "language": "python",
   "name": "python3"
  },
  "language_info": {
   "codemirror_mode": {
    "name": "ipython",
    "version": 3
   },
   "file_extension": ".py",
   "mimetype": "text/x-python",
   "name": "python",
   "nbconvert_exporter": "python",
   "pygments_lexer": "ipython3",
   "version": "3.9.7"
  }
 },
 "nbformat": 4,
 "nbformat_minor": 5
}
