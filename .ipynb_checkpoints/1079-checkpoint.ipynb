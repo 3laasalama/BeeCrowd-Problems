{
 "cells": [
  {
   "cell_type": "code",
   "execution_count": 9,
   "id": "392073a2",
   "metadata": {},
   "outputs": [
    {
     "name": "stdout",
     "output_type": "stream",
     "text": [
      "1\n",
      "8.0 9 10\n",
      "9.3\n"
     ]
    }
   ],
   "source": [
    "N = int(input())\n",
    "\n",
    "for i in range(N):\n",
    "    numbers = input().split()\n",
    "    n1 = float(numbers[0])\n",
    "    n2 = float(numbers[1])\n",
    "    n3 = float(numbers[2])\n",
    "    \n",
    "    weighted_avg= (n1*2 + n2*3 + n3*5)/10\n",
    "    print('{:.1f}' .format(weighted_avg))"
   ]
  },
  {
   "cell_type": "code",
   "execution_count": null,
   "id": "93cebd9d",
   "metadata": {},
   "outputs": [],
   "source": []
  }
 ],
 "metadata": {
  "kernelspec": {
   "display_name": "Python 3 (ipykernel)",
   "language": "python",
   "name": "python3"
  },
  "language_info": {
   "codemirror_mode": {
    "name": "ipython",
    "version": 3
   },
   "file_extension": ".py",
   "mimetype": "text/x-python",
   "name": "python",
   "nbconvert_exporter": "python",
   "pygments_lexer": "ipython3",
   "version": "3.9.7"
  }
 },
 "nbformat": 4,
 "nbformat_minor": 5
}
