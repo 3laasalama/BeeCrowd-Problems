{
 "cells": [
  {
   "cell_type": "code",
   "execution_count": 7,
   "id": "56bb0ce8",
   "metadata": {},
   "outputs": [
    {
     "name": "stdout",
     "output_type": "stream",
     "text": [
      "I=1 J=7\n",
      "I=1 J=6\n",
      "I=1 J=5\n",
      "I=2 J=7\n",
      "I=2 J=6\n",
      "I=2 J=5\n",
      "I=3 J=7\n",
      "I=3 J=6\n",
      "I=3 J=5\n",
      "I=4 J=7\n",
      "I=4 J=6\n",
      "I=4 J=5\n",
      "I=5 J=7\n",
      "I=5 J=6\n",
      "I=5 J=5\n",
      "I=6 J=7\n",
      "I=6 J=6\n",
      "I=6 J=5\n",
      "I=7 J=7\n",
      "I=7 J=6\n",
      "I=7 J=5\n",
      "I=8 J=7\n",
      "I=8 J=6\n",
      "I=8 J=5\n",
      "I=9 J=7\n",
      "I=9 J=6\n",
      "I=9 J=5\n"
     ]
    }
   ],
   "source": [
    "for i in range(1, 10):\n",
    "    for j in range(7,4,-1):\n",
    "        print('I={} J={}' .format(i, j))"
   ]
  },
  {
   "cell_type": "code",
   "execution_count": null,
   "id": "bb7cd5dc",
   "metadata": {},
   "outputs": [],
   "source": []
  }
 ],
 "metadata": {
  "kernelspec": {
   "display_name": "Python 3 (ipykernel)",
   "language": "python",
   "name": "python3"
  },
  "language_info": {
   "codemirror_mode": {
    "name": "ipython",
    "version": 3
   },
   "file_extension": ".py",
   "mimetype": "text/x-python",
   "name": "python",
   "nbconvert_exporter": "python",
   "pygments_lexer": "ipython3",
   "version": "3.9.7"
  }
 },
 "nbformat": 4,
 "nbformat_minor": 5
}
