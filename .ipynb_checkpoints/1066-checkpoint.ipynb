{
 "cells": [
  {
   "cell_type": "code",
   "execution_count": 4,
   "id": "370a7c3f",
   "metadata": {},
   "outputs": [
    {
     "name": "stdout",
     "output_type": "stream",
     "text": [
      "0\n",
      "-3\n",
      "-4\n",
      "-5\n",
      "12\n",
      "1 valor(es) par(es)\n",
      "0 valor(es) impar(es)\n",
      "1 valor(es) positivo(s)\n",
      "3 valor(es) negativo(s)\n"
     ]
    }
   ],
   "source": [
    "c_p = 0\n",
    "c_e = 0\n",
    "c_o = 0\n",
    "c_n = 0\n",
    "\n",
    "for i in range(5):\n",
    "    n = int(input())\n",
    "    if n > 0 : \n",
    "        c_p += 1\n",
    "    elif n < 0:\n",
    "        c_n += 1\n",
    "    if n % 2 == 0 :\n",
    "        c_e += 1\n",
    "    elif n % 2 == 1 :\n",
    "        c_o += 1\n",
    "\n",
    "print(c_e, 'valor(es) par(es)')\n",
    "print(c_o, 'valor(es) impar(es)')\n",
    "print(c_p, 'valor(es) positivo(s)')\n",
    "print(c_n, 'valor(es) negativo(s)')"
   ]
  },
  {
   "cell_type": "code",
   "execution_count": null,
   "id": "c69b2bc2",
   "metadata": {},
   "outputs": [],
   "source": []
  }
 ],
 "metadata": {
  "kernelspec": {
   "display_name": "Python 3 (ipykernel)",
   "language": "python",
   "name": "python3"
  },
  "language_info": {
   "codemirror_mode": {
    "name": "ipython",
    "version": 3
   },
   "file_extension": ".py",
   "mimetype": "text/x-python",
   "name": "python",
   "nbconvert_exporter": "python",
   "pygments_lexer": "ipython3",
   "version": "3.9.7"
  }
 },
 "nbformat": 4,
 "nbformat_minor": 5
}
