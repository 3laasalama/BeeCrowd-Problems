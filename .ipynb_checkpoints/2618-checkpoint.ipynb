{
 "cells": [
  {
   "cell_type": "code",
   "execution_count": null,
   "id": "426ad8e2",
   "metadata": {},
   "outputs": [],
   "source": [
    "select pd.name, pv.name, cat.name\n",
    "from ((products pd inner join providers pv on pd.id_providers=pv.id)\n",
    "inner join categories cat on pd.id_categories=cat.id)\n",
    "where pv.name='Sansul SA' and cat.name='Imported';"
   ]
  }
 ],
 "metadata": {
  "kernelspec": {
   "display_name": "Python 3 (ipykernel)",
   "language": "python",
   "name": "python3"
  },
  "language_info": {
   "codemirror_mode": {
    "name": "ipython",
    "version": 3
   },
   "file_extension": ".py",
   "mimetype": "text/x-python",
   "name": "python",
   "nbconvert_exporter": "python",
   "pygments_lexer": "ipython3",
   "version": "3.9.7"
  }
 },
 "nbformat": 4,
 "nbformat_minor": 5
}
