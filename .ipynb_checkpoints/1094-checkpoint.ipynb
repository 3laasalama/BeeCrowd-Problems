{
 "cells": [
  {
   "cell_type": "code",
   "execution_count": 18,
   "id": "435a9911",
   "metadata": {},
   "outputs": [
    {
     "name": "stdout",
     "output_type": "stream",
     "text": [
      "10\n",
      "10 C\n",
      "6 R\n",
      "15 S\n",
      "5 C\n",
      "14 R\n",
      "9 C\n",
      "6 R\n",
      "8 S\n",
      "5 C\n",
      "14 R\n"
     ]
    }
   ],
   "source": [
    "N = int(input())\n",
    "sum = 0\n",
    "count_c = 0\n",
    "count_r = 0\n",
    "count_s = 0\n",
    "\n",
    "for i in range(N):\n",
    "    n = input().split()\n",
    "    sum += int(n[0])\n",
    "    \n",
    "    if n[1] == 'C':\n",
    "        count_c += int(n[0])\n",
    "    elif n[1] == 'R':\n",
    "        count_r += int(n[0])\n",
    "    elif n[1] == 'S':\n",
    "        count_s += int(n[0])\n",
    "        \n",
    "c_per = (count_c*100)/sum\n",
    "r_per = (count_r*100)/sum\n",
    "s_per = (count_s*100)/sum\n"
   ]
  },
  {
   "cell_type": "code",
   "execution_count": 27,
   "id": "90fc8aae",
   "metadata": {},
   "outputs": [
    {
     "name": "stdout",
     "output_type": "stream",
     "text": [
      "Total: 92 cobaias\n",
      "Total de coelhos: 29\n",
      "Total de ratos: 40\n",
      "Total de sapos: 23\n",
      "Percentual de coelhos: 31.52 %\n",
      "Percentual de ratos: 43.48 %\n",
      "Percentual de sapos: 25.00 %\n"
     ]
    }
   ],
   "source": [
    "print('Total: {} cobaias' .format(sum))\n",
    "print('Total de coelhos: {}' .format(count_c))\n",
    "print('Total de ratos: {}' .format(count_r))\n",
    "print('Total de sapos: {}' .format(count_s))\n",
    "print('Percentual de coelhos: {:.2f} %' .format(c_per))\n",
    "print('Percentual de ratos: {:.2f} %' .format(r_per))\n",
    "print('Percentual de sapos: {:.2f} %' .format(s_per))\n"
   ]
  },
  {
   "cell_type": "code",
   "execution_count": null,
   "id": "126b56b3",
   "metadata": {},
   "outputs": [],
   "source": []
  }
 ],
 "metadata": {
  "kernelspec": {
   "display_name": "Python 3 (ipykernel)",
   "language": "python",
   "name": "python3"
  },
  "language_info": {
   "codemirror_mode": {
    "name": "ipython",
    "version": 3
   },
   "file_extension": ".py",
   "mimetype": "text/x-python",
   "name": "python",
   "nbconvert_exporter": "python",
   "pygments_lexer": "ipython3",
   "version": "3.9.7"
  }
 },
 "nbformat": 4,
 "nbformat_minor": 5
}
