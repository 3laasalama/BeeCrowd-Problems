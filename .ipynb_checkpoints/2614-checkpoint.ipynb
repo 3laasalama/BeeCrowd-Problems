{
 "cells": [
  {
   "cell_type": "code",
   "execution_count": null,
   "id": "4c71b86c",
   "metadata": {},
   "outputs": [],
   "source": [
    "select cust.name, ren.rentals_date from customers cust join rentals ren on cust.id=ren.id_customers\n",
    "where ren.rentals_date >= '2016-09-1' and ren.rentals_date <= '2016-09-30';"
   ]
  }
 ],
 "metadata": {
  "kernelspec": {
   "display_name": "Python 3 (ipykernel)",
   "language": "python",
   "name": "python3"
  },
  "language_info": {
   "codemirror_mode": {
    "name": "ipython",
    "version": 3
   },
   "file_extension": ".py",
   "mimetype": "text/x-python",
   "name": "python",
   "nbconvert_exporter": "python",
   "pygments_lexer": "ipython3",
   "version": "3.9.7"
  }
 },
 "nbformat": 4,
 "nbformat_minor": 5
}
