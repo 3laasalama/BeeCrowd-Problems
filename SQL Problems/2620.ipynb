{
 "cells": [
  {
   "cell_type": "code",
   "execution_count": null,
   "id": "35198369",
   "metadata": {},
   "outputs": [],
   "source": [
    "select cust.name, orders.id\n",
    "from customers cust inner join orders on cust.id=orders.id_customers \n",
    "where orders.orders_date >= '2016-01-01' and orders.orders_date < '2016-07-01' ;"
   ]
  }
 ],
 "metadata": {
  "kernelspec": {
   "display_name": "Python 3 (ipykernel)",
   "language": "python",
   "name": "python3"
  },
  "language_info": {
   "codemirror_mode": {
    "name": "ipython",
    "version": 3
   },
   "file_extension": ".py",
   "mimetype": "text/x-python",
   "name": "python",
   "nbconvert_exporter": "python",
   "pygments_lexer": "ipython3",
   "version": "3.9.7"
  }
 },
 "nbformat": 4,
 "nbformat_minor": 5
}
