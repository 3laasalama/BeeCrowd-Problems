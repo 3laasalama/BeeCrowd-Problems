{
 "cells": [
  {
   "cell_type": "code",
   "execution_count": 63,
   "id": "1273fc20",
   "metadata": {},
   "outputs": [
    {
     "name": "stdout",
     "output_type": "stream",
     "text": [
      "I=0 J=1\n",
      "I=0 J=2\n",
      "I=0 J=3\n",
      "I=0.2 J=1.2\n",
      "I=0.2 J=2.2\n",
      "I=0.2 J=3.2\n",
      "I=0.4 J=1.4\n",
      "I=0.4 J=2.4\n",
      "I=0.4 J=3.4\n",
      "I=0.6 J=1.6\n",
      "I=0.6 J=2.6\n",
      "I=0.6 J=3.6\n",
      "I=0.8 J=1.8\n",
      "I=0.8 J=2.8\n",
      "I=0.8 J=3.8\n",
      "I=1 J=2\n",
      "I=1 J=3\n",
      "I=1 J=4\n",
      "I=1.2 J=2.2\n",
      "I=1.2 J=3.2\n",
      "I=1.2 J=4.2\n",
      "I=1.4 J=2.4\n",
      "I=1.4 J=3.4\n",
      "I=1.4 J=4.4\n",
      "I=1.6 J=2.6\n",
      "I=1.6 J=3.6\n",
      "I=1.6 J=4.6\n",
      "I=1.8 J=2.8\n",
      "I=1.8 J=3.8\n",
      "I=1.8 J=4.8\n",
      "I=2 J=3\n",
      "I=2 J=4\n",
      "I=2 J=5\n"
     ]
    }
   ],
   "source": [
    "step = 0.0\n",
    "\n",
    "\n",
    "for i in range(0, 11):\n",
    "    \n",
    "    for j in range(1,4):\n",
    "        if step == 0 or step == 1 :\n",
    "            print('I={} J={}' .format(int(step) , int(j+step)))\n",
    "        elif step == 1.9999999999999998 :\n",
    "            print('I={} J={}' .format(2 , int(j+step)))\n",
    "        else:\n",
    "            print('I={:.1f} J={:.1f}' .format(step , j+step)) \n",
    "        \n",
    "    step += .2"
   ]
  },
  {
   "cell_type": "code",
   "execution_count": 23,
   "id": "f5ff6558",
   "metadata": {},
   "outputs": [
    {
     "name": "stdout",
     "output_type": "stream",
     "text": [
      "I=0 J=1\n",
      "I=0 J=2\n",
      "I=0 J=3\n",
      "I=0.2 J=1.2\n",
      "I=0.2 J=2.2\n",
      "I=0.2 J=3.2\n",
      "I=1 J=2\n",
      "I=1 J=3\n",
      "I=1 J=4\n",
      "I=1.2 J=2.2\n",
      "I=1.2 J=3.2\n",
      "I=1.2 J=4.2\n",
      "I=2 J=3\n",
      "I=2 J=4\n",
      "I=2 J=5\n"
     ]
    }
   ],
   "source": [
    "i = 0\n",
    "j = 1\n",
    "while i <= 2:\n",
    "    print(\"I=%d J=%d\"%(i,j))\n",
    "    print(\"I=%d J=%d\"%(i,(j+1)))\n",
    "    print(\"I=%d J=%d\"%(i,(j+2)))\n",
    "    if i != 2:\n",
    "        print(\"I=%.1f J=%.1f\"%((i+0.2),(j+0.2)))\n",
    "        print(\"I=%.1f J=%.1f\"%((i+0.2),(j+1+0.2)))\n",
    "        print(\"I=%.1f J=%.1f\"%((i+0.2),(j+2+0.2)))\n",
    "        \n",
    "    j+=1\n",
    "    i+=1"
   ]
  },
  {
   "cell_type": "code",
   "execution_count": 58,
   "id": "4dd445bd",
   "metadata": {},
   "outputs": [
    {
     "name": "stdout",
     "output_type": "stream",
     "text": [
      "0.2\n",
      "0.4\n",
      "0.6000000000000001\n",
      "0.8\n",
      "1.0\n",
      "1.2\n",
      "1.4\n",
      "1.5999999999999999\n",
      "1.7999999999999998\n",
      "1.9999999999999998\n"
     ]
    }
   ],
   "source": [
    "n=0.0\n",
    "for i in range(1,11):\n",
    "    n = n + .2\n",
    "    print(n)"
   ]
  },
  {
   "cell_type": "code",
   "execution_count": null,
   "id": "0f634a20",
   "metadata": {},
   "outputs": [],
   "source": []
  }
 ],
 "metadata": {
  "kernelspec": {
   "display_name": "Python 3 (ipykernel)",
   "language": "python",
   "name": "python3"
  },
  "language_info": {
   "codemirror_mode": {
    "name": "ipython",
    "version": 3
   },
   "file_extension": ".py",
   "mimetype": "text/x-python",
   "name": "python",
   "nbconvert_exporter": "python",
   "pygments_lexer": "ipython3",
   "version": "3.9.7"
  }
 },
 "nbformat": 4,
 "nbformat_minor": 5
}
